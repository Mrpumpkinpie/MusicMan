{
 "cells": [
  {
   "cell_type": "code",
   "execution_count": 1,
   "metadata": {},
   "outputs": [],
   "source": [
    "import librosa\n",
    "import numpy as np\n",
    "import sounddevice as sd\n",
    "\n",
    "import pickle\n",
    "\n",
    "import tensorflow as tf\n",
    "from tensorflow import keras\n",
    "from tensorflow.keras.utils import to_categorical\n",
    "\n",
    "from sklearn.preprocessing import LabelEncoder\n",
    "labelEncoder = LabelEncoder()"
   ]
  },
  {
   "cell_type": "markdown",
   "metadata": {},
   "source": [
    "ANN"
   ]
  },
  {
   "cell_type": "code",
   "execution_count": 55,
   "metadata": {},
   "outputs": [],
   "source": [
    "ANNmodel = keras.models.load_model('./saved_models/ANN_Classification.h5')"
   ]
  },
  {
   "cell_type": "code",
   "execution_count": 3,
   "metadata": {},
   "outputs": [
    {
     "data": {
      "text/plain": [
       "array([[1., 0., 0., 0., 0., 0., 0., 0.],\n",
       "       [0., 1., 0., 0., 0., 0., 0., 0.],\n",
       "       [0., 0., 1., 0., 0., 0., 0., 0.],\n",
       "       [0., 0., 0., 1., 0., 0., 0., 0.],\n",
       "       [0., 0., 0., 0., 1., 0., 0., 0.],\n",
       "       [0., 0., 0., 0., 0., 1., 0., 0.],\n",
       "       [0., 0., 0., 0., 0., 0., 1., 0.],\n",
       "       [0., 0., 0., 0., 0., 0., 0., 1.]], dtype=float32)"
      ]
     },
     "execution_count": 3,
     "metadata": {},
     "output_type": "execute_result"
    }
   ],
   "source": [
    "#Add classes and whatnot\n",
    "to_categorical(labelEncoder.fit_transform(np.array(['Am', 'Bb', 'Bdim', 'C', 'Dm', 'Em', 'F', 'G'])))"
   ]
  },
  {
   "cell_type": "markdown",
   "metadata": {},
   "source": [
    "SVM"
   ]
  },
  {
   "cell_type": "code",
   "execution_count": 4,
   "metadata": {},
   "outputs": [
    {
     "name": "stderr",
     "output_type": "stream",
     "text": [
      "C:\\Users\\first\\anaconda3\\lib\\site-packages\\sklearn\\base.py:310: UserWarning: Trying to unpickle estimator SVC from version 1.0.2 when using version 0.24.2. This might lead to breaking code or invalid results. Use at your own risk.\n",
      "  warnings.warn(\n"
     ]
    }
   ],
   "source": [
    "clf = pickle.load(open('./saved_models/SVM_Classification.sav', 'rb'))"
   ]
  },
  {
   "cell_type": "markdown",
   "metadata": {},
   "source": [
    "Testing"
   ]
  },
  {
   "cell_type": "code",
   "execution_count": 83,
   "metadata": {},
   "outputs": [
    {
     "name": "stdout",
     "output_type": "stream",
     "text": [
      "Bdim 67.14 %\n"
     ]
    }
   ],
   "source": [
    "RATE = 44100\n",
    "seconds = 3\n",
    "recording = sd.rec(int(seconds * RATE), samplerate=RATE, channels=1)\n",
    "sd.wait()\n",
    "\n",
    "mfcc = librosa.feature.mfcc(y=recording.ravel(), sr=RATE, n_mfcc=40)\n",
    "mfccScaled = np.mean(mfcc.T, axis=0)\n",
    "mfccScaled = mfccScaled.reshape(1, -1)\n",
    "\n",
    "predictedLabel = np.argmax(ANNmodel.predict(mfccScaled), axis=-1)\n",
    "predictedClass = labelEncoder.inverse_transform(predictedLabel)\n",
    "confidenceLevel = np.max(ANNmodel.predict(mfccScaled))\n",
    "\n",
    "print(predictedClass[0], '{0:.2f} %'.format(confidenceLevel * 100))"
   ]
  },
  {
   "cell_type": "code",
   "execution_count": null,
   "metadata": {},
   "outputs": [],
   "source": []
  },
  {
   "cell_type": "code",
   "execution_count": 80,
   "metadata": {},
   "outputs": [
    {
     "data": {
      "text/plain": [
       "'F'"
      ]
     },
     "execution_count": 80,
     "metadata": {},
     "output_type": "execute_result"
    }
   ],
   "source": [
    "RATE = 44100\n",
    "seconds = 3\n",
    "\n",
    "recording = sd.rec(int(seconds * RATE), samplerate=RATE, channels=1)\n",
    "sd.wait()\n",
    "\n",
    "mfcc = librosa.feature.mfcc(y=recording.ravel(), sr=RATE, n_mfcc=40)\n",
    "mfccScaled = np.mean(mfcc.T, axis=0)\n",
    "mfccScaled = mfccScaled.reshape(1, -1)\n",
    "\n",
    "predictedLabel = np.array(clf.predict(mfccScaled))\n",
    "\n",
    "if predictedLabel[0] == 0:\n",
    "    predictedClass = 'Am'\n",
    "elif predictedLabel[0] == 1:\n",
    "    predictedClass = 'Bb'\n",
    "elif predictedLabel[0] == 2:\n",
    "    predictedClass = 'Bdim'\n",
    "elif predictedLabel[0] == 3:\n",
    "    predictedClass = 'C'\n",
    "elif predictedLabel[0] == 4:\n",
    "    predictedClass = 'Dm'\n",
    "elif predictedLabel[0] == 5:\n",
    "    predictedClass = 'Em'\n",
    "elif predictedLabel[0] == 6:\n",
    "    predictedClass = 'F'\n",
    "elif predictedLabel[0] == 7:\n",
    "    predictedClass = 'G'\n",
    "\n",
    "#Pickle doesn't load the SVC settings so the probability can't be show here\n",
    "#However it can still show in the SVM.ipynb file\n",
    "predictedClass"
   ]
  },
  {
   "cell_type": "code",
   "execution_count": null,
   "metadata": {},
   "outputs": [],
   "source": []
  },
  {
   "cell_type": "code",
   "execution_count": null,
   "metadata": {},
   "outputs": [],
   "source": []
  }
 ],
 "metadata": {
  "interpreter": {
   "hash": "3d2ff16dbecce331901e238fde626769af8b29bf50c815c725d7930a6d0e7e02"
  },
  "kernelspec": {
   "display_name": "Python 3 (ipykernel)",
   "language": "python",
   "name": "python3"
  },
  "language_info": {
   "codemirror_mode": {
    "name": "ipython",
    "version": 3
   },
   "file_extension": ".py",
   "mimetype": "text/x-python",
   "name": "python",
   "nbconvert_exporter": "python",
   "pygments_lexer": "ipython3",
   "version": "3.9.7"
  }
 },
 "nbformat": 4,
 "nbformat_minor": 2
}
